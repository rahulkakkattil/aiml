{
 "cells": [
  {
   "cell_type": "markdown",
   "metadata": {
    "id": "xT7MKZuMRaCg"
   },
   "source": [
    "# Sentiment Classification\n"
   ]
  },
  {
   "cell_type": "markdown",
   "metadata": {
    "id": "jaxAQxNUIakB"
   },
   "source": [
    "### Importing Packages"
   ]
  },
  {
   "cell_type": "code",
   "execution_count": 40,
   "metadata": {
    "id": "goHCpf5YIaCT"
   },
   "outputs": [],
   "source": [
    "import numpy as np\n",
    "import pandas as pd\n",
    "import seaborn as sns\n",
    "import matplotlib.pyplot as plt\n",
    "%matplotlib inline\n",
    "from keras.models import Model, Sequential\n",
    "from tensorflow.keras.layers import Embedding, LSTM, TimeDistributed, Flatten, Dense,MaxPooling1D,Dropout,Conv1D\n",
    "from keras.callbacks import ModelCheckpoint, EarlyStopping\n",
    "import warnings\n",
    "warnings.filterwarnings('ignore')\n",
    "from sklearn.model_selection import train_test_split"
   ]
  },
  {
   "cell_type": "markdown",
   "metadata": {
    "id": "Wq4RCyyPSYRp"
   },
   "source": [
    "### Loading the dataset (5 points)"
   ]
  },
  {
   "cell_type": "code",
   "execution_count": 3,
   "metadata": {
    "colab": {
     "base_uri": "https://localhost:8080/"
    },
    "id": "NGCtiXUhSWss",
    "outputId": "4a2dc76c-a91b-41c0-dbad-f46e765cbd48"
   },
   "outputs": [
    {
     "name": "stdout",
     "output_type": "stream",
     "text": [
      "Downloading data from https://storage.googleapis.com/tensorflow/tf-keras-datasets/imdb.npz\n",
      "17465344/17464789 [==============================] - 0s 0us/step\n"
     ]
    }
   ],
   "source": [
    "from keras.datasets import imdb\n",
    "\n",
    "vocab_size = 10000 #vocab size\n",
    "\n",
    "(x_train, y_train), (x_test, y_test) = imdb.load_data(num_words=vocab_size) # vocab_size is no.of words to consider from the dataset, ordering based on frequency."
   ]
  },
  {
   "cell_type": "code",
   "execution_count": 4,
   "metadata": {
    "id": "fCPC_WN-eCyw"
   },
   "outputs": [],
   "source": [
    "from keras.preprocessing.sequence import pad_sequences\n",
    "vocab_size = 10000 #vocab size\n",
    "maxlen = 300  #number of word used from each review"
   ]
  },
  {
   "cell_type": "markdown",
   "metadata": {
    "id": "qMEsHYrWxdtk"
   },
   "source": [
    "## Train test split ( 5 points)"
   ]
  },
  {
   "cell_type": "code",
   "execution_count": 5,
   "metadata": {
    "id": "h0g381XzeCyz"
   },
   "outputs": [],
   "source": [
    "#load dataset as a list of ints\n",
    "(x_train, y_train), (x_test, y_test) = imdb.load_data(num_words=vocab_size)\n",
    "#make all sequences of the same length\n",
    "x_train = pad_sequences(x_train, maxlen=maxlen)\n",
    "x_test =  pad_sequences(x_test, maxlen=maxlen)"
   ]
  },
  {
   "cell_type": "code",
   "execution_count": 6,
   "metadata": {
    "id": "4aZvqIBWaLG-"
   },
   "outputs": [],
   "source": [
    "x=np.concatenate((x_train,x_test),axis=0)\n",
    "y=np.concatenate((y_train,y_test),axis=0)"
   ]
  },
  {
   "cell_type": "code",
   "execution_count": 13,
   "metadata": {
    "id": "tZhMAgaNeCy5"
   },
   "outputs": [],
   "source": [
    "x_train, x_test, y_train, y_test = train_test_split(x, y, test_size = 0.2, random_state = 0, shuffle = True)"
   ]
  },
  {
   "cell_type": "code",
   "execution_count": 14,
   "metadata": {
    "colab": {
     "base_uri": "https://localhost:8080/"
    },
    "id": "Jy6n-uM2eCy2",
    "outputId": "193bc37e-6693-4aae-b281-5943f549c21a"
   },
   "outputs": [
    {
     "name": "stdout",
     "output_type": "stream",
     "text": [
      "Shape of X_train : (40000, 300)\n",
      "Shape of y_train : (40000,)\n",
      "Shape of X_test : (10000, 300)\n",
      "Shape of y_test : (10000, 300)\n"
     ]
    }
   ],
   "source": [
    "#printing the shape\n",
    "print('Shape of X_train :',x_train.shape)\n",
    "print('Shape of y_train :',y_train.shape)\n",
    "print('Shape of X_test :',x_test.shape)\n",
    "print('Shape of y_test :',x_test.shape)"
   ]
  },
  {
   "cell_type": "code",
   "execution_count": 15,
   "metadata": {
    "colab": {
     "base_uri": "https://localhost:8080/"
    },
    "id": "qOuequ41f7Cm",
    "outputId": "8b0f5c8a-fc39-4f00-9e1e-7b7bb46b53e8"
   },
   "outputs": [
    {
     "name": "stdout",
     "output_type": "stream",
     "text": [
      "Maximum value of a word index: 9999\n",
      "Maximum length num words of review in train: 300\n"
     ]
    }
   ],
   "source": [
    "train_len = [len(sequence) for sequence in x_train]\n",
    "test_len = [len(sequence) for sequence in x_test]\n",
    "print('Maximum value of a word index:', max([max(sequence) for sequence in x_train]))\n",
    "print('Maximum length num words of review in train:', max([len(sequence) for sequence in x_train]))"
   ]
  },
  {
   "cell_type": "code",
   "execution_count": 16,
   "metadata": {
    "colab": {
     "base_uri": "https://localhost:8080/"
    },
    "id": "dCdiSqJff_-9",
    "outputId": "3aac2a9a-b6c4-4083-ab6b-0803a113ea88"
   },
   "outputs": [
    {
     "name": "stdout",
     "output_type": "stream",
     "text": [
      "Downloading data from https://storage.googleapis.com/tensorflow/tf-keras-datasets/imdb_word_index.json\n",
      "1646592/1641221 [==============================] - 0s 0us/step\n",
      "especially the ? and the ? another problem of course is the huge gaps in the plot bakshi was in a rush to finish this movie and he somehow hoped to ? a book and a half in little more than two hours the new trilogy by peter jackson does it in about twice that time far too many important bits were left out and i don't refer only to tom ? which i think was lovely in the book but would look silly in a movie and of course the ending which is completely sudden and out of place i'm not even sure if bakshi originally intended to end the film there or if he even had any idea where he's going to end it br br the characters well most of them were okay the ? don't look so bad except for the gay sam did you know that the producers of the new trilogy originally wanted to make sam a woman so there would be a feminine lead character if you're a ? fanatic like me watch this movie though i'm not too sure about buying it what special features does the dvd version have anyway but know in advance that you're not going to watch a real ? of the rings ? but not much more than a historical curiosity which probably looks not much better than the 60s version would have had the beatles carried on with their plan i actually think a psychedelic lotr could have been quite cool the idea was to cast george as ? paul as ? ? as sam and john as ? if you didn't read the book or didn't like it much or don't like animation films or don't want to see a half finished movie stay away\n",
      "The sentiment for the above review is: Negative\n",
      "\n",
      "\n",
      "adventure alive especially when one of the soldiers is against all types of violence and another one continuously stares at video images of her cute 3 year old son the hills have eyes ii completely lacks  as to be expected  originality logic and plausible situations the mutated ? aren't nearly as menacing as their colleagues in part one mainly because they aren't organized this time and only just behave like ? and sex hungry prototype monsters since you don't care for the amateur g i joe heroes and definitely don't feel any sympathy for the eyes in the hills this film is a whole lot less compelling and involving than last year's original most ? this second film isn't nearly as violent and gory as the first sequels usually compensate the lack of suspense and the absence of surprise twists with extra bloodshed and more graphic killing sequences but the action in this sequel is really tame compared to the sick footage featuring in its predecessor there are a handful of scenes to satisfy the ? horror fanatics  mainly showing soldiers falling down ? or getting shot by their own guns  but there sadly aren't any outrageous pick axe battles or ? dog attacks what a shame what's the point of a sequel if it even fails to ? the level of ? and or gratuitous filth of the original luckily enough the film is never boring or unnecessarily sentimental and you'll have the most fun ? all the things that don't make the slightest bit of sense for example ? falling out of people's ? heads women without any muscle power cast as tough ass soldiers and  my personal favorite  ? the one soldier with a speaking ? to operate the radio ?\n",
      "The sentiment for the above review is: Negative\n"
     ]
    }
   ],
   "source": [
    "unique, counts = np.unique(np.concatenate((y_train, y_test)), return_counts=True)\n",
    "sentiments = {1: 'Positive', 0: 'Negative'}\n",
    "\n",
    "def interprete_review(sequence):\n",
    "    id_to_word = dict([(value, key) for (key, value) in imdb.get_word_index().items()])\n",
    "    decoded_review = ' '.join([id_to_word.get(idx-3, '?') for idx in sequence])\n",
    "    print(decoded_review)\n",
    "    \n",
    "review_id1 = np.random.choice(train_len)\n",
    "interprete_review(x_train[review_id1])\n",
    "print('The sentiment for the above review is:', sentiments.get(y_train[review_id1]))\n",
    "print('\\n')\n",
    "review_id2 = np.random.choice(test_len)\n",
    "interprete_review(x_test[review_id2])\n",
    "print('The sentiment for the above review is:', sentiments.get(y_test[review_id2]))"
   ]
  },
  {
   "cell_type": "markdown",
   "metadata": {
    "id": "dybtUgUReCy8"
   },
   "source": [
    "## Build Keras Embedding Layer Model (30 points)\n",
    "We can think of the Embedding layer as a dicionary that maps a index assigned to a word to a word vector. This layer is very flexible and can be used in a few ways:\n",
    "\n",
    "* The embedding layer can be used at the start of a larger deep learning model. \n",
    "* Also we could load pre-train word embeddings into the embedding layer when we create our model.\n",
    "* Use the embedding layer to train our own word2vec models.\n",
    "\n",
    "The keras embedding layer doesn't require us to onehot encode our words, instead we have to give each word a unqiue intger number as an id. For the imdb dataset we've loaded this has already been done, but if this wasn't the case we could use sklearn [LabelEncoder](http://scikit-learn.org/stable/modules/generated/sklearn.preprocessing.LabelEncoder.html)."
   ]
  },
  {
   "cell_type": "code",
   "execution_count": 23,
   "metadata": {
    "colab": {
     "base_uri": "https://localhost:8080/"
    },
    "id": "A5OLM4eBeCy9",
    "outputId": "b2348e4e-cfa7-4089-a45c-c0b60237be61"
   },
   "outputs": [
    {
     "name": "stdout",
     "output_type": "stream",
     "text": [
      "Model: \"sequential_3\"\n",
      "_________________________________________________________________\n",
      "Layer (type)                 Output Shape              Param #   \n",
      "=================================================================\n",
      "embedding_3 (Embedding)      (None, 300, 256)          2560000   \n",
      "_________________________________________________________________\n",
      "dropout_2 (Dropout)          (None, 300, 256)          0         \n",
      "_________________________________________________________________\n",
      "conv1d_2 (Conv1D)            (None, 300, 256)          327936    \n",
      "_________________________________________________________________\n",
      "conv1d_3 (Conv1D)            (None, 300, 128)          163968    \n",
      "_________________________________________________________________\n",
      "max_pooling1d (MaxPooling1D) (None, 150, 128)          0         \n",
      "_________________________________________________________________\n",
      "conv1d_4 (Conv1D)            (None, 150, 64)           41024     \n",
      "_________________________________________________________________\n",
      "max_pooling1d_1 (MaxPooling1 (None, 75, 64)            0         \n",
      "_________________________________________________________________\n",
      "lstm (LSTM)                  (None, 75)                42000     \n",
      "_________________________________________________________________\n",
      "dense (Dense)                (None, 1)                 76        \n",
      "=================================================================\n",
      "Total params: 3,135,004\n",
      "Trainable params: 3,135,004\n",
      "Non-trainable params: 0\n",
      "_________________________________________________________________\n",
      "None\n"
     ]
    }
   ],
   "source": [
    "# Model\n",
    "model = Sequential()\n",
    "model.add(Embedding(vocab_size, 256, input_length = maxlen))\n",
    "model.add(Dropout(0.25))\n",
    "model.add(Conv1D(256, 5, padding = 'same', activation = 'relu', strides = 1))\n",
    "model.add(Conv1D(128, 5, padding = 'same', activation = 'relu', strides = 1))\n",
    "model.add(MaxPooling1D(pool_size = 2))\n",
    "model.add(Conv1D(64, 5, padding = 'same', activation = 'relu', strides = 1))\n",
    "model.add(MaxPooling1D(pool_size = 2))\n",
    "model.add(LSTM(75))\n",
    "model.add(Dense(1, activation = 'sigmoid'))\n",
    "model.compile(loss = 'binary_crossentropy', optimizer = 'adam', metrics = ['accuracy'])\n",
    "print(model.summary())\n",
    "\n",
    "# Adding callbacks\n",
    "es = EarlyStopping(monitor = 'val_loss', mode = 'min', verbose = 1, patience = 0)  \n",
    "mc = ModelCheckpoint('imdb_model.h5', monitor = 'val_loss', mode = 'min', save_best_only = True, verbose = 1)"
   ]
  },
  {
   "cell_type": "code",
   "execution_count": 24,
   "metadata": {
    "colab": {
     "base_uri": "https://localhost:8080/"
    },
    "id": "TxNDNhrseCzA",
    "outputId": "023a312e-a338-4336-d2bd-d393868cf0cf"
   },
   "outputs": [
    {
     "name": "stdout",
     "output_type": "stream",
     "text": [
      "Epoch 1/5\n",
      "250/250 [==============================] - 29s 83ms/step - loss: 0.5080 - accuracy: 0.7088 - val_loss: 0.2586 - val_accuracy: 0.8947\n",
      "\n",
      "Epoch 00001: val_loss improved from inf to 0.25861, saving model to imdb_model.h5\n",
      "Epoch 2/5\n",
      "250/250 [==============================] - 20s 82ms/step - loss: 0.1829 - accuracy: 0.9301 - val_loss: 0.2698 - val_accuracy: 0.8850\n",
      "\n",
      "Epoch 00002: val_loss did not improve from 0.25861\n",
      "Epoch 00002: early stopping\n"
     ]
    }
   ],
   "source": [
    "epochs = 5\n",
    "batches = 128\n",
    "#using 20% of data as validation set\n",
    "history = model.fit(x_train, y_train, epochs = epochs, batch_size = batches, validation_split = 0.2,verbose = True, callbacks = [es, mc]) "
   ]
  },
  {
   "cell_type": "markdown",
   "metadata": {
    "id": "Igq8Qm8GeCzG"
   },
   "source": [
    "## Accuracy of the model  & Retrive the output of each layer in keras for a given single test sample from the trained model you built (10 Points)"
   ]
  },
  {
   "cell_type": "code",
   "execution_count": 26,
   "metadata": {
    "colab": {
     "base_uri": "https://localhost:8080/"
    },
    "id": "L3CSVVPPeCzD",
    "outputId": "604211bd-43c8-4ccf-a842-e60c150e2f27"
   },
   "outputs": [
    {
     "name": "stdout",
     "output_type": "stream",
     "text": [
      "1250/1250 [==============================] - 9s 7ms/step - loss: 0.1729 - accuracy: 0.9360\n",
      "Training Loss: 0.1729 and Accuracy: 93.60%\n",
      "313/313 [==============================] - 2s 7ms/step - loss: 0.2658 - accuracy: 0.8906\n",
      "Test Loss: 0.2658 and Accuracy: 89.06%\n"
     ]
    }
   ],
   "source": [
    "tr_loss, tr_acc = model.evaluate(x_train, y_train)\n",
    "print('Training Loss: %.4f and Accuracy: %.2f%%' % (tr_loss, tr_acc * 100))\n",
    "\n",
    "loss, acc = model.evaluate(x_test, y_test)\n",
    "print('Test Loss: %.4f and Accuracy: %.2f%%' % (loss, acc * 100))"
   ]
  },
  {
   "cell_type": "markdown",
   "metadata": {
    "id": "Tg-taqVakbF8"
   },
   "source": [
    "**Observation**\n",
    "\n",
    "- Test acuracy = 89.06%\n",
    "-Train accuracy is 93.6%\n",
    "- Model is Overfitting"
   ]
  },
  {
   "cell_type": "code",
   "execution_count": 32,
   "metadata": {
    "colab": {
     "base_uri": "https://localhost:8080/",
     "height": 476
    },
    "id": "0AqOnLa2eCzH",
    "outputId": "5fec227f-3775-49cf-9a04-fa4d27aa7f81"
   },
   "outputs": [
    {
     "name": "stdout",
     "output_type": "stream",
     "text": [
      "\n",
      "Testing accuracy: 89.05999999999999\n",
      "\n",
      " Confusion matrix:\n",
      " [[4132  861]\n",
      " [ 233 4774]]\n"
     ]
    },
    {
     "data": {
      "text/plain": [
       "Text(0.5, 1.0, 'Confusion Matrix ')"
      ]
     },
     "execution_count": 32,
     "metadata": {
      "tags": []
     },
     "output_type": "execute_result"
    },
    {
     "data": {
      "image/png": "[encoded data removed]",
      "text/plain": [
       "<Figure size 360x360 with 2 Axes>"
      ]
     },
     "metadata": {
      "needs_background": "light",
      "tags": []
     },
     "output_type": "display_data"
    }
   ],
   "source": [
    "\n",
    "from sklearn.metrics import confusion_matrix, classification_report,  accuracy_score\n",
    "y_pred = model.predict_classes(x_test)\n",
    "\n",
    "print('\\nTesting accuracy:', (accuracy_score(y_test, y_pred) * 100))\n",
    "\n",
    "cfm_model = confusion_matrix(y_test, y_pred)\n",
    "print('\\n Confusion matrix:\\n', cfm_model)\n",
    "\n",
    "plt.figure(figsize = (5, 5))\n",
    "sns.heatmap(cfm_model, annot = True, fmt = 'd')\n",
    "plt.xlabel('Actual Classes', fontsize = 15)\n",
    "plt.ylabel('Predicted Classes', fontsize = 15)\n",
    "plt.title('Confusion Matrix ', fontsize = 15)"
   ]
  },
  {
   "cell_type": "code",
   "execution_count": 38,
   "metadata": {
    "colab": {
     "base_uri": "https://localhost:8080/"
    },
    "id": "-dUDSg7VeCzM",
    "outputId": "993bf04c-4b5c-4d53-a9e1-a4187be8b245"
   },
   "outputs": [
    {
     "name": "stdout",
     "output_type": "stream",
     "text": [
      "adventure alive especially when one of the soldiers is against all types of violence and another one continuously stares at video images of her cute 3 year old son the hills have eyes ii completely lacks  as to be expected  originality logic and plausible situations the mutated ? aren't nearly as menacing as their colleagues in part one mainly because they aren't organized this time and only just behave like ? and sex hungry prototype monsters since you don't care for the amateur g i joe heroes and definitely don't feel any sympathy for the eyes in the hills this film is a whole lot less compelling and involving than last year's original most ? this second film isn't nearly as violent and gory as the first sequels usually compensate the lack of suspense and the absence of surprise twists with extra bloodshed and more graphic killing sequences but the action in this sequel is really tame compared to the sick footage featuring in its predecessor there are a handful of scenes to satisfy the ? horror fanatics  mainly showing soldiers falling down ? or getting shot by their own guns  but there sadly aren't any outrageous pick axe battles or ? dog attacks what a shame what's the point of a sequel if it even fails to ? the level of ? and or gratuitous filth of the original luckily enough the film is never boring or unnecessarily sentimental and you'll have the most fun ? all the things that don't make the slightest bit of sense for example ? falling out of people's ? heads women without any muscle power cast as tough ass soldiers and  my personal favorite  ? the one soldier with a speaking ? to operate the radio ?\n",
      "ACTUAL sentiment: Negative\n",
      "PREDICTED sentiment: Negative\n"
     ]
    }
   ],
   "source": [
    "# Predicting the sentiment for a random pre-defined review from IMDB dataset\n",
    "review_id = np.random.choice(test_len)\n",
    "interprete_review(x_test[review_id])\n",
    "print('ACTUAL sentiment:', sentiments.get(y_test[review_id]))\n",
    "\n",
    "prediction = model.predict_classes(pad_sequences([x_test[review_id]], maxlen = maxlen))\n",
    "print('PREDICTED sentiment:', sentiments.get(prediction[0][0]))"
   ]
  },
  {
   "cell_type": "markdown",
   "metadata": {
    "id": "ytXAowtDmWsa"
   },
   "source": [
    "### Output of each layers"
   ]
  },
  {
   "cell_type": "code",
   "execution_count": 41,
   "metadata": {
    "colab": {
     "base_uri": "https://localhost:8080/"
    },
    "id": "Tskt_1npeCzP",
    "outputId": "fbe568f8-a16a-4938-8bf6-510ec01d3ed6"
   },
   "outputs": [
    {
     "name": "stdout",
     "output_type": "stream",
     "text": [
      "\n",
      " ---------------------------------------- embedding_3 layer ---------------------------------------- \n",
      "\n",
      "[[[-0.01087046 -0.02226283 -0.01529966 ...  0.00508994 -0.03526138\n",
      "   -0.01275799]\n",
      "  [-0.01087046 -0.02226283 -0.01529966 ...  0.00508994 -0.03526138\n",
      "   -0.01275799]\n",
      "  [-0.01087046 -0.02226283 -0.01529966 ...  0.00508994 -0.03526138\n",
      "   -0.01275799]\n",
      "  ...\n",
      "  [ 0.01491141  0.02168479 -0.02027915 ... -0.04847545  0.00731946\n",
      "    0.00660094]\n",
      "  [ 0.01491141  0.02168479 -0.02027915 ... -0.04847545  0.00731946\n",
      "    0.00660094]\n",
      "  [ 0.01491141  0.02168479 -0.02027915 ... -0.04847545  0.00731946\n",
      "    0.00660094]]]\n",
      "\n",
      " ---------------------------------------- dropout_2 layer ---------------------------------------- \n",
      "\n",
      "[[[-0.01087046 -0.02226283 -0.01529966 ...  0.00508994 -0.03526138\n",
      "   -0.01275799]\n",
      "  [-0.01087046 -0.02226283 -0.01529966 ...  0.00508994 -0.03526138\n",
      "   -0.01275799]\n",
      "  [-0.01087046 -0.02226283 -0.01529966 ...  0.00508994 -0.03526138\n",
      "   -0.01275799]\n",
      "  ...\n",
      "  [ 0.01491141  0.02168479 -0.02027915 ... -0.04847545  0.00731946\n",
      "    0.00660094]\n",
      "  [ 0.01491141  0.02168479 -0.02027915 ... -0.04847545  0.00731946\n",
      "    0.00660094]\n",
      "  [ 0.01491141  0.02168479 -0.02027915 ... -0.04847545  0.00731946\n",
      "    0.00660094]]]\n",
      "\n",
      " ---------------------------------------- conv1d_2 layer ---------------------------------------- \n",
      "\n",
      "[[[0. 0. 0. ... 0. 0. 0.]\n",
      "  [0. 0. 0. ... 0. 0. 0.]\n",
      "  [0. 0. 0. ... 0. 0. 0.]\n",
      "  ...\n",
      "  [0. 0. 0. ... 0. 0. 0.]\n",
      "  [0. 0. 0. ... 0. 0. 0.]\n",
      "  [0. 0. 0. ... 0. 0. 0.]]]\n",
      "WARNING:tensorflow:5 out of the last 1261 calls to <function Model.make_predict_function.<locals>.predict_function at 0x7f07db09aae8> triggered tf.function retracing. Tracing is expensive and the excessive number of tracings could be due to (1) creating @tf.function repeatedly in a loop, (2) passing tensors with different shapes, (3) passing Python objects instead of tensors. For (1), please define your @tf.function outside of the loop. For (2), @tf.function has experimental_relax_shapes=True option that relaxes argument shapes that can avoid unnecessary retracing. For (3), please refer to https://www.tensorflow.org/guide/function#controlling_retracing and https://www.tensorflow.org/api_docs/python/tf/function for  more details.\n",
      "\n",
      " ---------------------------------------- conv1d_3 layer ---------------------------------------- \n",
      "\n",
      "[[[0. 0. 0. ... 0. 0. 0.]\n",
      "  [0. 0. 0. ... 0. 0. 0.]\n",
      "  [0. 0. 0. ... 0. 0. 0.]\n",
      "  ...\n",
      "  [0. 0. 0. ... 0. 0. 0.]\n",
      "  [0. 0. 0. ... 0. 0. 0.]\n",
      "  [0. 0. 0. ... 0. 0. 0.]]]\n",
      "WARNING:tensorflow:6 out of the last 1262 calls to <function Model.make_predict_function.<locals>.predict_function at 0x7f07db10d378> triggered tf.function retracing. Tracing is expensive and the excessive number of tracings could be due to (1) creating @tf.function repeatedly in a loop, (2) passing tensors with different shapes, (3) passing Python objects instead of tensors. For (1), please define your @tf.function outside of the loop. For (2), @tf.function has experimental_relax_shapes=True option that relaxes argument shapes that can avoid unnecessary retracing. For (3), please refer to https://www.tensorflow.org/guide/function#controlling_retracing and https://www.tensorflow.org/api_docs/python/tf/function for  more details.\n",
      "\n",
      " ---------------------------------------- max_pooling1d layer ---------------------------------------- \n",
      "\n",
      "[[[0. 0. 0. ... 0. 0. 0.]\n",
      "  [0. 0. 0. ... 0. 0. 0.]\n",
      "  [0. 0. 0. ... 0. 0. 0.]\n",
      "  ...\n",
      "  [0. 0. 0. ... 0. 0. 0.]\n",
      "  [0. 0. 0. ... 0. 0. 0.]\n",
      "  [0. 0. 0. ... 0. 0. 0.]]]\n",
      "WARNING:tensorflow:7 out of the last 1263 calls to <function Model.make_predict_function.<locals>.predict_function at 0x7f07d8a79620> triggered tf.function retracing. Tracing is expensive and the excessive number of tracings could be due to (1) creating @tf.function repeatedly in a loop, (2) passing tensors with different shapes, (3) passing Python objects instead of tensors. For (1), please define your @tf.function outside of the loop. For (2), @tf.function has experimental_relax_shapes=True option that relaxes argument shapes that can avoid unnecessary retracing. For (3), please refer to https://www.tensorflow.org/guide/function#controlling_retracing and https://www.tensorflow.org/api_docs/python/tf/function for  more details.\n",
      "\n",
      " ---------------------------------------- conv1d_4 layer ---------------------------------------- \n",
      "\n",
      "[[[0.         0.0002435  0.         ... 0.         0.         0.        ]\n",
      "  [0.         0.         0.         ... 0.         0.         0.        ]\n",
      "  [0.         0.         0.         ... 0.         0.         0.        ]\n",
      "  ...\n",
      "  [0.         0.0098687  0.         ... 0.         0.         0.        ]\n",
      "  [0.         0.         0.         ... 0.00537674 0.         0.        ]\n",
      "  [0.         0.         0.         ... 0.00778552 0.         0.        ]]]\n",
      "WARNING:tensorflow:8 out of the last 1264 calls to <function Model.make_predict_function.<locals>.predict_function at 0x7f07db09a400> triggered tf.function retracing. Tracing is expensive and the excessive number of tracings could be due to (1) creating @tf.function repeatedly in a loop, (2) passing tensors with different shapes, (3) passing Python objects instead of tensors. For (1), please define your @tf.function outside of the loop. For (2), @tf.function has experimental_relax_shapes=True option that relaxes argument shapes that can avoid unnecessary retracing. For (3), please refer to https://www.tensorflow.org/guide/function#controlling_retracing and https://www.tensorflow.org/api_docs/python/tf/function for  more details.\n",
      "\n",
      " ---------------------------------------- max_pooling1d_1 layer ---------------------------------------- \n",
      "\n",
      "[[[0.         0.0002435  0.         ... 0.         0.         0.        ]\n",
      "  [0.         0.         0.         ... 0.         0.         0.        ]\n",
      "  [0.         0.         0.         ... 0.         0.         0.        ]\n",
      "  ...\n",
      "  [0.03941858 0.08680209 0.         ... 0.         0.         0.        ]\n",
      "  [0.0060293  0.04185139 0.         ... 0.         0.         0.        ]\n",
      "  [0.         0.         0.         ... 0.00778552 0.         0.        ]]]\n",
      "WARNING:tensorflow:9 out of the last 1265 calls to <function Model.make_predict_function.<locals>.predict_function at 0x7f07d89d58c8> triggered tf.function retracing. Tracing is expensive and the excessive number of tracings could be due to (1) creating @tf.function repeatedly in a loop, (2) passing tensors with different shapes, (3) passing Python objects instead of tensors. For (1), please define your @tf.function outside of the loop. For (2), @tf.function has experimental_relax_shapes=True option that relaxes argument shapes that can avoid unnecessary retracing. For (3), please refer to https://www.tensorflow.org/guide/function#controlling_retracing and https://www.tensorflow.org/api_docs/python/tf/function for  more details.\n",
      "\n",
      " ---------------------------------------- lstm layer ---------------------------------------- \n",
      "\n",
      "[[-0.19151153  0.10143767  0.07832322 -0.06405655 -0.10550614  0.22027205\n",
      "  -0.02570326 -0.19934374 -0.0150205   0.18913063  0.08023507  0.18648045\n",
      "  -0.07610591  0.08339389  0.08902894 -0.17344274  0.03678396 -0.09607615\n",
      "   0.17700492 -0.06554487 -0.17373022  0.06679252  0.00610841 -0.04886089\n",
      "  -0.07528172 -0.03350229  0.2800934   0.16554978 -0.208434    0.08087082\n",
      "   0.19748418 -0.08728465 -0.05580929  0.00697094 -0.03043655  0.14129983\n",
      "  -0.08098735  0.01253597 -0.03713344 -0.04428948 -0.1556909  -0.14436497\n",
      "   0.05656171  0.09305827 -0.01341171  0.27913392  0.10623356 -0.0152016\n",
      "  -0.18314339 -0.13094242 -0.08811034  0.22050987  0.04887928  0.00393663\n",
      "   0.14856611 -0.16946049  0.14851095  0.11706216 -0.00962404  0.17363445\n",
      "   0.1290676  -0.02051621  0.2079224  -0.02506685 -0.18603523 -0.15657933\n",
      "   0.11433037  0.12889443  0.00818098  0.09923322 -0.1636719  -0.22043264\n",
      "   0.0271089   0.15908007  0.11660759]]\n",
      "WARNING:tensorflow:10 out of the last 1266 calls to <function Model.make_predict_function.<locals>.predict_function at 0x7f07e00b8ea0> triggered tf.function retracing. Tracing is expensive and the excessive number of tracings could be due to (1) creating @tf.function repeatedly in a loop, (2) passing tensors with different shapes, (3) passing Python objects instead of tensors. For (1), please define your @tf.function outside of the loop. For (2), @tf.function has experimental_relax_shapes=True option that relaxes argument shapes that can avoid unnecessary retracing. For (3), please refer to https://www.tensorflow.org/guide/function#controlling_retracing and https://www.tensorflow.org/api_docs/python/tf/function for  more details.\n",
      "\n",
      " ---------------------------------------- dense layer ---------------------------------------- \n",
      "\n",
      "[[0.7630335]]\n"
     ]
    }
   ],
   "source": [
    "sample_x_test = x_test[np.random.randint(10000)]\n",
    "for layer in model.layers:\n",
    "\n",
    "    model_layer = Model(inputs = model.input, outputs = model.get_layer(layer.name).output)\n",
    "    output = model_layer.predict(sample_x_test.reshape(1,-1))\n",
    "    print('\\n','--'*20, layer.name, 'layer', '--'*20, '\\n')\n",
    "    print(output)"
   ]
  },
  {
   "cell_type": "code",
   "execution_count": null,
   "metadata": {
    "id": "Yt0Ie6RQmrC3"
   },
   "outputs": [],
   "source": []
  }
 ],
 "metadata": {
  "accelerator": "GPU",
  "colab": {
   "collapsed_sections": [],
   "name": "SeqNLP_Project1_Questions-1.ipynb",
   "provenance": []
  },
  "kernelspec": {
   "display_name": "Python 3",
   "language": "python",
   "name": "python3"
  },
  "language_info": {
   "codemirror_mode": {
    "name": "ipython",
    "version": 3
   },
   "file_extension": ".py",
   "mimetype": "text/x-python",
   "name": "python",
   "nbconvert_exporter": "python",
   "pygments_lexer": "ipython3",
   "version": "3.8.3"
  }
 },
 "nbformat": 4,
 "nbformat_minor": 1
}
